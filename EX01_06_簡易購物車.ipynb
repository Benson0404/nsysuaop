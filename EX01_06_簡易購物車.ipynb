{
  "nbformat": 4,
  "nbformat_minor": 0,
  "metadata": {
    "colab": {
      "provenance": [],
      "authorship_tag": "ABX9TyNRIg/H+qa+kb1T8RyDXZ0Y",
      "include_colab_link": true
    },
    "kernelspec": {
      "name": "python3",
      "display_name": "Python 3"
    },
    "language_info": {
      "name": "python"
    }
  },
  "cells": [
    {
      "cell_type": "markdown",
      "metadata": {
        "id": "view-in-github",
        "colab_type": "text"
      },
      "source": [
        "<a href=\"https://colab.research.google.com/github/Benson0404/nsysuaop/blob/main/EX01_06_%E7%B0%A1%E6%98%93%E8%B3%BC%E7%89%A9%E8%BB%8A.ipynb\" target=\"_parent\"><img src=\"https://colab.research.google.com/assets/colab-badge.svg\" alt=\"Open In Colab\"/></a>"
      ]
    },
    {
      "cell_type": "code",
      "source": [
        "from IPython.display import clear_output\n",
        "shopping_cart = []\n",
        "products = { \"apple\": 25, \"banana\": 12, \"cherry\": 30 }\n",
        "while True:\n",
        "    clear_output()\n",
        "    print('商品欄：', ', '.join([f'{pd}/{pr}' for pd,pr in products.items()]))\n",
        "    print('購物車：', ', '.join(shopping_cart))\n",
        "    print('功能列：', '1.新增商品 2.移除商品 3.結帳 4.離開')\n",
        "    move = input('請選擇功能：')\n",
        "    if move[0]=='1':\n",
        "      shopping_cart.append(move[1:])\n",
        "    elif move[0]=='2':\n",
        "      shopping_cart.remove(move[1:])\n",
        "    elif move[0]=='3':\n",
        "      total=0\n",
        "      for i in shopping_cart:\n",
        "        total+=products[i]\n",
        "      print('結帳金額：', total)\n",
        "      break\n",
        "    else:\n",
        "      print('bye')\n",
        "      break"
      ],
      "metadata": {
        "colab": {
          "base_uri": "https://localhost:8080/"
        },
        "id": "b_Ub6P9nQ48g",
        "outputId": "0c55517f-4802-4a18-f2cd-4f74b71070d5"
      },
      "execution_count": 18,
      "outputs": [
        {
          "output_type": "stream",
          "name": "stdout",
          "text": [
            "商品欄： apple/25, banana/12, cherry/30\n",
            "購物車： banana, apple\n",
            "功能列： 1.新增商品 2.移除商品 3.結帳 4.離開\n",
            "請選擇功能：3\n",
            "結帳金額： 37\n"
          ]
        }
      ]
    }
  ]
}