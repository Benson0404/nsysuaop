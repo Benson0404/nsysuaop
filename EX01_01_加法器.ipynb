{
  "nbformat": 4,
  "nbformat_minor": 0,
  "metadata": {
    "colab": {
      "provenance": [],
      "authorship_tag": "ABX9TyNcWwEjy4pccai8eLj9ksUf",
      "include_colab_link": true
    },
    "kernelspec": {
      "name": "python3",
      "display_name": "Python 3"
    },
    "language_info": {
      "name": "python"
    }
  },
  "cells": [
    {
      "cell_type": "markdown",
      "metadata": {
        "id": "view-in-github",
        "colab_type": "text"
      },
      "source": [
        "<a href=\"https://colab.research.google.com/github/Benson0404/nsysuaop/blob/main/EX01_01_%E5%8A%A0%E6%B3%95%E5%99%A8.ipynb\" target=\"_parent\"><img src=\"https://colab.research.google.com/assets/colab-badge.svg\" alt=\"Open In Colab\"/></a>"
      ]
    },
    {
      "cell_type": "code",
      "execution_count": 1,
      "metadata": {
        "id": "5MOtMqGTBo5B",
        "colab": {
          "base_uri": "https://localhost:8080/"
        },
        "outputId": "e3d53cc7-10e4-4774-8a1f-02c5ee581afc"
      },
      "outputs": [
        {
          "output_type": "stream",
          "name": "stdout",
          "text": [
            "請輸入n1:2\n",
            "請輸入n2:3\n",
            "總和為 5\n"
          ]
        }
      ],
      "source": [
        "#輸入兩數\n",
        "n1=int(input('請輸入n1:'))\n",
        "n2=int(input('請輸入n2:'))\n",
        "\n",
        "#加總計算\n",
        "total=n1+n2\n",
        "print('總和為',total)"
      ]
    }
  ]
}