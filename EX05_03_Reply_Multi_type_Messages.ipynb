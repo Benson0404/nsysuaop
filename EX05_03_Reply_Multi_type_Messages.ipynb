{
  "nbformat": 4,
  "nbformat_minor": 0,
  "metadata": {
    "colab": {
      "provenance": [],
      "authorship_tag": "ABX9TyO+2uJnx+9X3CR6DknNID7y",
      "include_colab_link": true
    },
    "kernelspec": {
      "name": "python3",
      "display_name": "Python 3"
    },
    "language_info": {
      "name": "python"
    }
  },
  "cells": [
    {
      "cell_type": "markdown",
      "metadata": {
        "id": "view-in-github",
        "colab_type": "text"
      },
      "source": [
        "<a href=\"https://colab.research.google.com/github/Benson0404/nsysuaop/blob/main/EX05_03_Reply_Multi_type_Messages.ipynb\" target=\"_parent\"><img src=\"https://colab.research.google.com/assets/colab-badge.svg\" alt=\"Open In Colab\"/></a>"
      ]
    },
    {
      "cell_type": "code",
      "execution_count": 1,
      "metadata": {
        "id": "GYdwa1VltxLz",
        "colab": {
          "base_uri": "https://localhost:8080/"
        },
        "outputId": "bad8e0dc-3a9d-40d1-e00c-2e46d268eb87"
      },
      "outputs": [
        {
          "output_type": "stream",
          "name": "stdout",
          "text": [
            "\u001b[?25l   \u001b[90m━━━━━━━━━━━━━━━━━━━━━━━━━━━━━━━━━━━━━━━━\u001b[0m \u001b[32m0.0/776.1 kB\u001b[0m \u001b[31m?\u001b[0m eta \u001b[36m-:--:--\u001b[0m\r\u001b[2K   \u001b[91m━━━━━━━━━━━━━━━━━━━━━━━━━━━━━━━━━━━━━━━\u001b[0m\u001b[91m╸\u001b[0m \u001b[32m768.0/776.1 kB\u001b[0m \u001b[31m24.3 MB/s\u001b[0m eta \u001b[36m0:00:01\u001b[0m\r\u001b[2K   \u001b[90m━━━━━━━━━━━━━━━━━━━━━━━━━━━━━━━━━━━━━━━━\u001b[0m \u001b[32m776.1/776.1 kB\u001b[0m \u001b[31m13.6 MB/s\u001b[0m eta \u001b[36m0:00:00\u001b[0m\n",
            "\u001b[?25h\u001b[?25l   \u001b[90m━━━━━━━━━━━━━━━━━━━━━━━━━━━━━━━━━━━━━━━━\u001b[0m \u001b[32m0.0/165.6 kB\u001b[0m \u001b[31m?\u001b[0m eta \u001b[36m-:--:--\u001b[0m\r\u001b[2K   \u001b[90m━━━━━━━━━━━━━━━━━━━━━━━━━━━━━━━━━━━━━━━━\u001b[0m \u001b[32m165.6/165.6 kB\u001b[0m \u001b[31m10.6 MB/s\u001b[0m eta \u001b[36m0:00:00\u001b[0m\n",
            "\u001b[?25h"
          ]
        }
      ],
      "source": [
        "!pip install -q flask pyngrok flask_ngrok line-bot-sdk"
      ]
    },
    {
      "cell_type": "code",
      "source": [
        "## 在colab環境才需要\n",
        "# 從 Google Colab 的安全模組中匯入 userdata，用來取得儲存的憑證（如 LINE token、ngrok token）\n",
        "from google.colab import userdata\n",
        "\n",
        "# 匯入 flask-ngrok 函式，讓我們可以在 Colab 中啟動 ngrok 隧道公開 Flask 應用\n",
        "from flask_ngrok import run_with_ngrok\n",
        "from pyngrok import ngrok\n",
        "\n",
        "# ✅ 自訂函式：啟動 ngrok 隧道，並連結至本機的 port 5000\n",
        "def ngrok_start():\n",
        "    ngrok.set_auth_token(userdata.get('NGROK_AUTH_TOKEN'))  # 設定 ngrok 認證 token（需先在 Colab 中儲存）\n",
        "    ngrok.connect(5000)  # 建立連接至 localhost:5000 的公開網址\n",
        "    run_with_ngrok(app)  # 將 app 綁定至 ngrok（這行應在 app 建立之後再呼叫）"
      ],
      "metadata": {
        "id": "avBAe2WCt854"
      },
      "execution_count": null,
      "outputs": []
    },
    {
      "cell_type": "code",
      "source": [
        "# Flask 是 Python Web Framework，這裡用來建立一個 Web 應用\n",
        "from flask import Flask, request, abort\n",
        "\n",
        "# 匯入 LINE Bot SDK 的 Webhook 處理器\n",
        "from linebot.v3.webhook import WebhookHandler\n",
        "\n",
        "# 匯入 LINE SDK 中的 Signature 錯誤類別（用來處理無效簽章的例外情況）\n",
        "from linebot.v3.exceptions import InvalidSignatureError\n",
        "\n",
        "# 匯入 LINE Messaging API 中的工具與資料模型\n",
        "from linebot.v3.messaging import (\n",
        "    ApiClient,                # LINE Bot API 的客戶端\n",
        "    Configuration,            # 儲存存取憑證的設定物件\n",
        "    MessagingApi,             # 提供訊息發送等功能\n",
        "    ReplyMessageRequest,      # 回覆訊息的請求格式\n",
        "    TextMessage,          # 用來回傳文字訊息\n",
        "    StickerMessage,\n",
        "    ImageMessage,\n",
        "    VideoMessage,\n",
        "    LocationMessage\n",
        ")\n",
        "\n",
        "# 匯入 webhook 的事件與內容類型\n",
        "from linebot.v3.webhooks import (\n",
        "    MessageEvent,             # 訊息事件\n",
        "    TextMessageContent        # 純文字訊息內容\n",
        ")\n",
        "\n",
        "# 建立 Flask 應用程式物件\n",
        "app = Flask(__name__)\n",
        "\n",
        "# 建立 LINE Bot 設定：使用儲存在 userdata 裡的 Channel Access Token\n",
        "configuration = Configuration(access_token=userdata.get('LINE_CHANNEL_ACCESS_TOKEN'))\n",
        "\n",
        "# 建立 webhook handler：用來驗證和處理來自 LINE 的請求\n",
        "handler = WebhookHandler(userdata.get('LINE_CHANNEL_SECRET'))\n",
        "\n",
        "# 🔁 當 LINE 的 webhook POST 訊息傳來時會進入這個 callback 路由\n",
        "@app.route(\"/callback\", methods=['POST'])\n",
        "def callback():\n",
        "    # 從 HTTP 標頭中取得簽名資訊\n",
        "    signature = request.headers['X-Line-Signature']\n",
        "\n",
        "    # 取得請求的主體（也就是 LINE 傳來的訊息資料）\n",
        "    body = request.get_data(as_text=True)\n",
        "    app.logger.info(\"Request body: \" + body)  # 將收到的訊息內容輸出到伺服器 log\n",
        "\n",
        "    # 驗證簽名並處理 webhook\n",
        "    try:\n",
        "        handler.handle(body, signature)  # 使用 webhook handler 驗證並處理訊息\n",
        "    except InvalidSignatureError:\n",
        "        # 如果簽名驗證失敗，回傳錯誤並中止處理\n",
        "        app.logger.info(\"Invalid signature. Please check your channel access token/channel secret.\")\n",
        "        abort(400)\n",
        "\n",
        "    return 'OK'  # 驗證成功後，回傳 OK 給 LINE Server（代表 webhook 處理完畢）\n",
        "\n",
        "\n",
        "import google.generativeai as genai\n",
        "\n",
        "genai.configure(api_key=userdata.get(\"Google_api_key\"))\n",
        "model = genai.GenerativeModel(\"gemini-2.5-pro-preview-03-25\")\n",
        "def ask_gemini(question):\n",
        "  response = model.generate_content(question)\n",
        "  return response.text\n",
        "\n",
        "\n",
        "# 📩 當收到文字訊息時會觸發這個事件處理函式\n",
        "@handler.add(MessageEvent, message=TextMessageContent)\n",
        "def handle_message(event):\n",
        "    # 使用 access_token 建立 Messaging API 客戶端\n",
        "    with ApiClient(configuration) as api_client:\n",
        "        line_bot_api = MessagingApi(api_client)\n",
        "\n",
        "        action = event.message.text\n",
        "        if action == 'sticker':\n",
        "          # 回覆貼圖\n",
        "          reply = StickerMessage(package_id='446', sticker_id='1989')\n",
        "        elif action == 'image':\n",
        "          # 回覆圖片\n",
        "          reply = ImageMessage(\n",
        "              original_content_url='https://encrypted-tbn0.gstatic.com/images?q=tbn:ANd9GcQVkUAueDWewWtyo5gTxZbkcOapz4UBRHCQng&s',\n",
        "              preview_image_url='https://encrypted-tbn0.gstatic.com/images?q=tbn:ANd9GcQVkUAueDWewWtyo5gTxZbkcOapz4UBRHCQng&s'\n",
        "              )\n",
        "        elif action == 'video':\n",
        "          # 回覆影片\n",
        "          reply = VideoMessage(\n",
        "            original_content_url='https://www.youtube.com/shorts/BDmYkfZ78uQ?feature=share',\n",
        "            preview_image_url='https://encrypted-tbn0.gstatic.com/images?q=tbn:ANd9GcTO2wz_wCNmqVonsYE0Bof542ywYAHYzp6bDw&s'\n",
        "            )\n",
        "        elif action == 'location':\n",
        "          reply = LocationMessage(\n",
        "            title=\"新莊棒球場\",\n",
        "            address=\"新北市新莊區和興街66號\",\n",
        "            latitude=25.04107199083388,\n",
        "            longitude=121.44753413623891\n",
        "            )\n",
        "        else:\n",
        "          # 回覆文字訊息\n",
        "          response = ask_gemini(action)\n",
        "          reply = TextMessage(text=response)\n",
        "\n",
        "\n",
        "        # 回覆與使用者輸入相同的訊息（回聲機器人 Echo Bot）\n",
        "        line_bot_api.reply_message_with_http_info(\n",
        "          ReplyMessageRequest(\n",
        "            reply_token=event.reply_token,  # 用來識別是哪個訊息需要被回覆\n",
        "            messages=[\n",
        "              reply\n",
        "            ]  # 回覆的訊息內容\n",
        "          )\n",
        "        )\n",
        "\n",
        "# ✅ 啟動 ngrok，讓 Flask app 在公開網址上運行\n",
        "ngrok_start()\n",
        "\n",
        "# 🚀 如果這支程式是從主程式啟動，就啟動 Flask 伺服器\n",
        "if __name__ == \"__main__\":\n",
        "  app.run()"
      ],
      "metadata": {
        "colab": {
          "base_uri": "https://localhost:8080/"
        },
        "id": "7DKneYdSt-3r",
        "outputId": "1ed9a96a-00cc-42a6-ce5b-67ca6e4b6d92"
      },
      "execution_count": null,
      "outputs": [
        {
          "output_type": "stream",
          "name": "stdout",
          "text": [
            " * Serving Flask app '__main__'\n",
            " * Debug mode: off\n"
          ]
        },
        {
          "output_type": "stream",
          "name": "stderr",
          "text": [
            "INFO:werkzeug:\u001b[31m\u001b[1mWARNING: This is a development server. Do not use it in a production deployment. Use a production WSGI server instead.\u001b[0m\n",
            " * Running on http://127.0.0.1:5000\n",
            "INFO:werkzeug:\u001b[33mPress CTRL+C to quit\u001b[0m\n"
          ]
        },
        {
          "output_type": "stream",
          "name": "stdout",
          "text": [
            " * Running on http://02dd-104-199-227-72.ngrok-free.app\n",
            " * Traffic stats available on http://127.0.0.1:4040\n"
          ]
        },
        {
          "output_type": "stream",
          "name": "stderr",
          "text": [
            "INFO:werkzeug:127.0.0.1 - - [06/May/2025 13:46:01] \"\u001b[31m\u001b[1mGET /callback HTTP/1.1\u001b[0m\" 405 -\n",
            "INFO:werkzeug:127.0.0.1 - - [06/May/2025 13:46:02] \"\u001b[33mGET /favicon.ico HTTP/1.1\u001b[0m\" 404 -\n",
            "INFO:werkzeug:127.0.0.1 - - [06/May/2025 13:46:14] \"POST /callback HTTP/1.1\" 200 -\n"
          ]
        }
      ]
    }
  ]
}