{
  "nbformat": 4,
  "nbformat_minor": 0,
  "metadata": {
    "colab": {
      "provenance": [],
      "authorship_tag": "ABX9TyPAVno5wi7S9prn7HPPoLfh",
      "include_colab_link": true
    },
    "kernelspec": {
      "name": "python3",
      "display_name": "Python 3"
    },
    "language_info": {
      "name": "python"
    }
  },
  "cells": [
    {
      "cell_type": "markdown",
      "metadata": {
        "id": "view-in-github",
        "colab_type": "text"
      },
      "source": [
        "<a href=\"https://colab.research.google.com/github/Benson0404/nsysuaop/blob/main/EX05_04_Reply_Template_Messages.ipynb\" target=\"_parent\"><img src=\"https://colab.research.google.com/assets/colab-badge.svg\" alt=\"Open In Colab\"/></a>"
      ]
    },
    {
      "cell_type": "code",
      "source": [
        "!pip install -q pyngrok flask_ngrok # for colab\n",
        "!pip install -q flask line-bot-sdk"
      ],
      "metadata": {
        "colab": {
          "base_uri": "https://localhost:8080/"
        },
        "id": "qJ7OTsk6W9Uf",
        "outputId": "a5b4b34b-554c-44c7-dac7-676b97fabf6d"
      },
      "execution_count": 1,
      "outputs": [
        {
          "output_type": "stream",
          "name": "stdout",
          "text": [
            "\u001b[?25l   \u001b[90m━━━━━━━━━━━━━━━━━━━━━━━━━━━━━━━━━━━━━━━━\u001b[0m \u001b[32m0.0/776.1 kB\u001b[0m \u001b[31m?\u001b[0m eta \u001b[36m-:--:--\u001b[0m\r\u001b[2K   \u001b[91m━━━━━━━━━━━━━━━━━━━━━━━━━━━━━━━━━━━━━━━\u001b[0m\u001b[91m╸\u001b[0m \u001b[32m768.0/776.1 kB\u001b[0m \u001b[31m23.6 MB/s\u001b[0m eta \u001b[36m0:00:01\u001b[0m\r\u001b[2K   \u001b[90m━━━━━━━━━━━━━━━━━━━━━━━━━━━━━━━━━━━━━━━━\u001b[0m \u001b[32m776.1/776.1 kB\u001b[0m \u001b[31m13.1 MB/s\u001b[0m eta \u001b[36m0:00:00\u001b[0m\n",
            "\u001b[?25h\u001b[?25l   \u001b[90m━━━━━━━━━━━━━━━━━━━━━━━━━━━━━━━━━━━━━━━━\u001b[0m \u001b[32m0.0/165.6 kB\u001b[0m \u001b[31m?\u001b[0m eta \u001b[36m-:--:--\u001b[0m\r\u001b[2K   \u001b[90m━━━━━━━━━━━━━━━━━━━━━━━━━━━━━━━━━━━━━━━━\u001b[0m \u001b[32m165.6/165.6 kB\u001b[0m \u001b[31m9.0 MB/s\u001b[0m eta \u001b[36m0:00:00\u001b[0m\n",
            "\u001b[?25h"
          ]
        }
      ]
    },
    {
      "cell_type": "code",
      "execution_count": 2,
      "metadata": {
        "id": "za6UsyN4WMSn"
      },
      "outputs": [],
      "source": [
        "## 在colab環境才需要\n",
        "# 從 Google Colab 的安全模組中匯入 userdata，用來取得儲存的憑證（如 LINE token、ngrok token）\n",
        "from google.colab import userdata\n",
        "\n",
        "# 匯入 flask-ngrok 函式，讓我們可以在 Colab 中啟動 ngrok 隧道公開 Flask 應用\n",
        "from flask_ngrok import run_with_ngrok\n",
        "from pyngrok import ngrok\n",
        "\n",
        "# ✅ 自訂函式：啟動 ngrok 隧道，並連結至本機的 port 5000\n",
        "def ngrok_start():\n",
        "    ngrok.set_auth_token(userdata.get('NGROK_AUTH_TOKEN'))  # 設定 ngrok 認證 token（需先在 Colab 中儲存）\n",
        "    ngrok.connect(5000)  # 建立連接至 localhost:5000 的公開網址\n",
        "    run_with_ngrok(app)  # 將 app 綁定至 ngrok（這行應在 app 建立之後再呼叫）"
      ]
    },
    {
      "cell_type": "code",
      "source": [
        "# Flask 是 Python Web Framework，這裡用來建立一個 Web 應用\n",
        "from flask import Flask, request, abort\n",
        "\n",
        "# 匯入 LINE Bot SDK 的 Webhook 處理器\n",
        "from linebot.v3.webhook import WebhookHandler\n",
        "\n",
        "# 匯入 LINE SDK 中的 Signature 錯誤類別（用來處理無效簽章的例外情況）\n",
        "from linebot.v3.exceptions import InvalidSignatureError\n",
        "\n",
        "# 匯入 LINE Messaging API 中的工具與資料模型\n",
        "from linebot.v3.messaging import (\n",
        "    ApiClient,                # LINE Bot API 的客戶端\n",
        "    Configuration,            # 儲存存取憑證的設定物件\n",
        "    MessagingApi,             # 提供訊息發送等功能\n",
        "    ReplyMessageRequest,      # 回覆訊息的請求格式\n",
        "    TextMessage,          # 用來回傳文字訊息\n",
        "    StickerMessage,\n",
        "    ImageMessage,\n",
        "    VideoMessage,\n",
        "    LocationMessage,\n",
        "    TemplateMessage, ConfirmTemplate, MessageAction,\n",
        "    CarouselTemplate,\n",
        "    CarouselColumn,\n",
        "    URIAction,\n",
        "    PostbackAction\n",
        ")\n",
        "\n",
        "# 匯入 webhook 的事件與內容類型\n",
        "from linebot.v3.webhooks import (\n",
        "    MessageEvent,             # 訊息事件\n",
        "    TextMessageContent        # 純文字訊息內容\n",
        ")\n",
        "\n",
        "# 建立 Flask 應用程式物件\n",
        "app = Flask(__name__)\n",
        "\n",
        "# 建立 LINE Bot 設定：使用儲存在 userdata 裡的 Channel Access Token\n",
        "configuration = Configuration(access_token=userdata.get('LINE_CHANNEL_ACCESS_TOKEN'))\n",
        "\n",
        "# 建立 webhook handler：用來驗證和處理來自 LINE 的請求\n",
        "handler = WebhookHandler(userdata.get('LINE_CHANNEL_SECRET'))\n",
        "\n",
        "# 🔁 當 LINE 的 webhook POST 訊息傳來時會進入這個 callback 路由\n",
        "# Server for linebot\n",
        "@app.route(\"/callback\", methods=['POST'])\n",
        "def callback():\n",
        "    # 從 HTTP 標頭中取得簽名資訊\n",
        "    signature = request.headers['X-Line-Signature']\n",
        "\n",
        "    # 取得請求的主體（也就是 LINE 傳來的訊息資料）\n",
        "    body = request.get_data(as_text=True)\n",
        "    app.logger.info(\"Request body: \" + body)  # 將收到的訊息內容輸出到伺服器 log\n",
        "\n",
        "    # 驗證簽名並處理 webhook\n",
        "    try:\n",
        "        handler.handle(body, signature)  # 使用 webhook handler 驗證並處理訊息\n",
        "    except InvalidSignatureError:\n",
        "        # 如果簽名驗證失敗，回傳錯誤並中止處理\n",
        "        app.logger.info(\"Invalid signature. Please check your channel access token/channel secret.\")\n",
        "        abort(400)\n",
        "\n",
        "    return 'OK'  # 驗證成功後，回傳 OK 給 LINE Server（代表 webhook 處理完畢）\n",
        "\n",
        "\n",
        "@handler.add(MessageEvent, message=TextMessageContent)\n",
        "def handle_message(event):\n",
        "    with ApiClient(configuration) as api_client:\n",
        "        line_bot_api = MessagingApi(api_client)\n",
        "\n",
        "        action = event.message.text\n",
        "        if action == 'confirm':\n",
        "          reply = TemplateMessage(\n",
        "            alt_text=\"這是確認視窗\",\n",
        "            template=ConfirmTemplate(\n",
        "            text=\"你喜歡李珠珢嗎？\",\n",
        "            actions=[\n",
        "                MessageAction(label=\"是\", text=\"我最愛李珠珢了!!\"),\n",
        "                MessageAction(label=\"否\", text=\"啦啦啦～\")\n",
        "              ]\n",
        "            )\n",
        "          )\n",
        "        elif action == 'carousel':\n",
        "          reply = TemplateMessage(\n",
        "            alt_text=\"這是輪播視窗\",\n",
        "            template=CarouselTemplate(\n",
        "              columns=[\n",
        "                CarouselColumn(\n",
        "                  thumbnail_image_url='https://upload.wikimedia.org/wikipedia/commons/thumb/6/65/240909_%EC%9D%B4%EC%A3%BC%EC%9D%80_%E6%9D%8E%E7%8F%A0%E7%8F%A2_%28cropped%29.png/500px-240909_%EC%9D%B4%EC%A3%BC%EC%9D%80_%E6%9D%8E%E7%8F%A0%E7%8F%A2_%28cropped%29.png',\n",
        "                  title='李珠珢',\n",
        "                  text='韓籍第一啦啦隊',\n",
        "                  actions=[\n",
        "                    URIAction(label='查看詳情', uri='https://zh.wikipedia.org/zh-tw/%E6%9D%8E%E7%8F%A0%E7%8F%A2'),\n",
        "                    URIAction(label='Video', uri='https://www.youtube.com/watch?v=c4bE8uxVCB4'),\n",
        "                    #PostbackAction(label='投票', text='我投李珠珢一票')\n",
        "                  ]\n",
        "                ),\n",
        "                CarouselColumn(\n",
        "                  thumbnail_image_url='https://event.asus.com/digitrend/images/New79PIC/CoveryStory01.jpg',\n",
        "                  title='秀秀子',\n",
        "                  text='富邦Angels大隊長',\n",
        "                  actions=[\n",
        "                    URIAction(label='查看詳情', uri='https://www.instagram.com/showshowz1124/'),\n",
        "                    URIAction(label='Video', uri='https://www.youtube.com/shorts/leIczRpccHY'),\n",
        "                    #PostbackAction(label='投票', text='我投秀秀子一票')\n",
        "                  ]\n",
        "                )\n",
        "              ]\n",
        "            )\n",
        "          )\n",
        "        else:\n",
        "          reply = TextMessage(text='謝謝')\n",
        "\n",
        "        line_bot_api.reply_message(\n",
        "            ReplyMessageRequest(\n",
        "                reply_token=event.reply_token,\n",
        "                messages=[\n",
        "                    reply\n",
        "                ]\n",
        "            )\n",
        "        )\n",
        "\n",
        "# ✅ 啟動 ngrok，讓 Flask app 在公開網址上運行\n",
        "ngrok_start()\n",
        "\n",
        "# 🚀 如果這支程式是從主程式啟動，就啟動 Flask 伺服器\n",
        "if __name__ == \"__main__\":\n",
        "  app.run()"
      ],
      "metadata": {
        "colab": {
          "base_uri": "https://localhost:8080/"
        },
        "id": "6xgcG4HWWsjc",
        "outputId": "2a62f917-902b-4a88-eb97-54d666fb2488"
      },
      "execution_count": 10,
      "outputs": [
        {
          "output_type": "stream",
          "name": "stdout",
          "text": [
            " * Serving Flask app '__main__'\n",
            " * Debug mode: off\n"
          ]
        },
        {
          "output_type": "stream",
          "name": "stderr",
          "text": [
            "INFO:werkzeug:\u001b[31m\u001b[1mWARNING: This is a development server. Do not use it in a production deployment. Use a production WSGI server instead.\u001b[0m\n",
            " * Running on http://127.0.0.1:5000\n",
            "INFO:werkzeug:\u001b[33mPress CTRL+C to quit\u001b[0m\n"
          ]
        },
        {
          "output_type": "stream",
          "name": "stdout",
          "text": [
            " * Running on http://f0cb-34-82-192-202.ngrok-free.app\n",
            " * Traffic stats available on http://127.0.0.1:4040\n"
          ]
        },
        {
          "output_type": "stream",
          "name": "stderr",
          "text": [
            "INFO:werkzeug:127.0.0.1 - - [13/May/2025 07:55:00] \"POST /callback HTTP/1.1\" 200 -\n",
            "INFO:werkzeug:127.0.0.1 - - [13/May/2025 07:55:06] \"POST /callback HTTP/1.1\" 200 -\n"
          ]
        }
      ]
    }
  ]
}