{
  "nbformat": 4,
  "nbformat_minor": 0,
  "metadata": {
    "colab": {
      "provenance": [],
      "authorship_tag": "ABX9TyN5evzKW1XU28EVoNusGUrw",
      "include_colab_link": true
    },
    "kernelspec": {
      "name": "python3",
      "display_name": "Python 3"
    },
    "language_info": {
      "name": "python"
    }
  },
  "cells": [
    {
      "cell_type": "markdown",
      "metadata": {
        "id": "view-in-github",
        "colab_type": "text"
      },
      "source": [
        "<a href=\"https://colab.research.google.com/github/Benson0404/nsysuaop/blob/main/EX01_03_Rock_Paper_Scissors.ipynb\" target=\"_parent\"><img src=\"https://colab.research.google.com/assets/colab-badge.svg\" alt=\"Open In Colab\"/></a>"
      ]
    },
    {
      "cell_type": "code",
      "execution_count": 3,
      "metadata": {
        "colab": {
          "base_uri": "https://localhost:8080/"
        },
        "id": "oBl1tkSIPs8u",
        "outputId": "b1773cb9-d67b-44ef-d08a-188996014c16"
      },
      "outputs": [
        {
          "output_type": "stream",
          "name": "stdout",
          "text": [
            "請輸入要出的拳(0:石頭, 2:剪刀, 5:布)：2\n",
            "You win\n"
          ]
        }
      ],
      "source": [
        "import random\n",
        "\n",
        "player = input('請輸入要出的拳(0:石頭, 2:剪刀, 5:布)：')\n",
        "computer = random.choice([0,2,5])\n",
        "\n",
        "if player=='0':\n",
        "  if computer=='0':\n",
        "    print('Draw')\n",
        "  elif computer=='2':\n",
        "    print('You win')\n",
        "  else:\n",
        "    print('You lost')\n",
        "elif player=='2':\n",
        "  if computer=='0':\n",
        "    print('You lost')\n",
        "  elif computer=='2':\n",
        "    print('Draw')\n",
        "  else:\n",
        "    print('You win')\n",
        "else:\n",
        "  if computer=='0':\n",
        "    print('You win')\n",
        "  elif computer=='2':\n",
        "    print('You lost')\n",
        "  else:\n",
        "    print('Draw')"
      ]
    }
  ]
}