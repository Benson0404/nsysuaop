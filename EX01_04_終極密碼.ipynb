{
  "nbformat": 4,
  "nbformat_minor": 0,
  "metadata": {
    "colab": {
      "provenance": [],
      "authorship_tag": "ABX9TyN155zt4JpzAg32fJJUR6QO",
      "include_colab_link": true
    },
    "kernelspec": {
      "name": "python3",
      "display_name": "Python 3"
    },
    "language_info": {
      "name": "python"
    }
  },
  "cells": [
    {
      "cell_type": "markdown",
      "metadata": {
        "id": "view-in-github",
        "colab_type": "text"
      },
      "source": [
        "<a href=\"https://colab.research.google.com/github/Benson0404/nsysuaop/blob/main/EX01_04_%E7%B5%82%E6%A5%B5%E5%AF%86%E7%A2%BC.ipynb\" target=\"_parent\"><img src=\"https://colab.research.google.com/assets/colab-badge.svg\" alt=\"Open In Colab\"/></a>"
      ]
    },
    {
      "cell_type": "code",
      "execution_count": 12,
      "metadata": {
        "colab": {
          "base_uri": "https://localhost:8080/"
        },
        "id": "kRtnTnHNxtxL",
        "outputId": "947b2074-45d9-47be-c45b-3cf736ad855a"
      },
      "outputs": [
        {
          "output_type": "stream",
          "name": "stdout",
          "text": [
            "請輸入0～100：101\n",
            "超過範圍，請重新輸入\n",
            "請輸入0～100：25\n",
            "請輸入25～100：360\n",
            "超過範圍，請重新輸入\n",
            "請輸入25～100：58\n",
            "請輸入25～58：40\n",
            "請輸入25～40：30\n",
            "請輸入30～40：35\n",
            "請輸入30～35：33\n",
            "請輸入33～35：34\n",
            "你猜對了\n"
          ]
        }
      ],
      "source": [
        "import random\n",
        "\n",
        "ans = random.randint(1,99)\n",
        "min_value = 0\n",
        "max_value = 100\n",
        "while(True):\n",
        "  a = int(input(f'請輸入{min_value}～{max_value}：'))\n",
        "  if a>max_value or a<min_value:\n",
        "    print('超過範圍，請重新輸入')\n",
        "  elif a > ans:\n",
        "    max_value = a\n",
        "  elif a < ans:\n",
        "    min_value = a\n",
        "  else:\n",
        "    print('你猜對了')\n",
        "    break"
      ]
    }
  ]
}