{
  "nbformat": 4,
  "nbformat_minor": 0,
  "metadata": {
    "colab": {
      "provenance": [],
      "authorship_tag": "ABX9TyO1vjlgLdcVyGs38Ai9Rlcp",
      "include_colab_link": true
    },
    "kernelspec": {
      "name": "python3",
      "display_name": "Python 3"
    },
    "language_info": {
      "name": "python"
    }
  },
  "cells": [
    {
      "cell_type": "markdown",
      "metadata": {
        "id": "view-in-github",
        "colab_type": "text"
      },
      "source": [
        "<a href=\"https://colab.research.google.com/github/Benson0404/nsysuaop/blob/main/EX01_05_Caesar_Cipher_Encode_and_decode.ipynb\" target=\"_parent\"><img src=\"https://colab.research.google.com/assets/colab-badge.svg\" alt=\"Open In Colab\"/></a>"
      ]
    },
    {
      "cell_type": "code",
      "execution_count": 1,
      "metadata": {
        "colab": {
          "base_uri": "https://localhost:8080/"
        },
        "id": "14B1Sl2OD71O",
        "outputId": "7c5b943f-e1cc-404a-8594-dfdb31fd244d"
      },
      "outputs": [
        {
          "output_type": "stream",
          "name": "stdout",
          "text": [
            "e8\n",
            "you are a cop\n",
            "w}(izm(i(kwx"
          ]
        }
      ],
      "source": [
        "#輸入要加/解密and金鑰\n",
        "act = input('')\n",
        "\n",
        "act_type = act[0]\n",
        "key = act[1:]\n",
        "\n",
        "#輸入要加解密的文字\n",
        "txt = input('')\n",
        "\n",
        "if act_type == 'd':\n",
        "  #解密\n",
        "  for c in txt:\n",
        "    print(chr(ord(c) - int(key)), end='')\n",
        "else:\n",
        "  #加密\n",
        "  for c in txt:\n",
        "    print(chr(ord(c) + int(key)), end='')"
      ]
    },
    {
      "cell_type": "code",
      "source": [
        "#輸入要加/解密and金鑰\n",
        "act = input('')\n",
        "\n",
        "act_type = act[0]\n",
        "key = act[1:]\n",
        "\n",
        "#輸入要加解密的文字\n",
        "txt = input('')\n",
        "\n",
        "if act_type == 'd':\n",
        "  #解密\n",
        "  for c in txt:\n",
        "    print(chr(ord(c) - int(key)), end='')\n",
        "else:\n",
        "  #加密\n",
        "  for c in txt:\n",
        "    print(chr(ord(c) + int(key)), end='')"
      ],
      "metadata": {
        "colab": {
          "base_uri": "https://localhost:8080/"
        },
        "id": "dSfDE8hrH-Vx",
        "outputId": "82b1d555-deee-47ab-9c35-932d8c8a6a91"
      },
      "execution_count": 2,
      "outputs": [
        {
          "output_type": "stream",
          "name": "stdout",
          "text": [
            "d8\n",
            "w}(izm(i(kwx\n",
            "you are a cop"
          ]
        }
      ]
    }
  ]
}