{
  "nbformat": 4,
  "nbformat_minor": 0,
  "metadata": {
    "colab": {
      "provenance": [],
      "authorship_tag": "ABX9TyPm4sjoBY4q3XK6lqlEE4j2",
      "include_colab_link": true
    },
    "kernelspec": {
      "name": "python3",
      "display_name": "Python 3"
    },
    "language_info": {
      "name": "python"
    }
  },
  "cells": [
    {
      "cell_type": "markdown",
      "metadata": {
        "id": "view-in-github",
        "colab_type": "text"
      },
      "source": [
        "<a href=\"https://colab.research.google.com/github/Benson0404/nsysuaop/blob/main/EX05_01_Echo_Bot.ipynb\" target=\"_parent\"><img src=\"https://colab.research.google.com/assets/colab-badge.svg\" alt=\"Open In Colab\"/></a>"
      ]
    },
    {
      "cell_type": "code",
      "execution_count": 1,
      "metadata": {
        "colab": {
          "base_uri": "https://localhost:8080/"
        },
        "id": "r5HD6YnSWROR",
        "outputId": "3314a13f-aa9c-4c93-8dbb-2c1e41eefb2e"
      },
      "outputs": [
        {
          "output_type": "stream",
          "name": "stdout",
          "text": [
            "\u001b[?25l   \u001b[90m━━━━━━━━━━━━━━━━━━━━━━━━━━━━━━━━━━━━━━━━\u001b[0m \u001b[32m0.0/776.1 kB\u001b[0m \u001b[31m?\u001b[0m eta \u001b[36m-:--:--\u001b[0m\r\u001b[2K   \u001b[91m━━━━━━━━━━━━━━━━━━━━━━━━━━━━━━━━━━━━━━━\u001b[0m\u001b[91m╸\u001b[0m \u001b[32m768.0/776.1 kB\u001b[0m \u001b[31m33.9 MB/s\u001b[0m eta \u001b[36m0:00:01\u001b[0m\r\u001b[2K   \u001b[90m━━━━━━━━━━━━━━━━━━━━━━━━━━━━━━━━━━━━━━━━\u001b[0m \u001b[32m776.1/776.1 kB\u001b[0m \u001b[31m18.9 MB/s\u001b[0m eta \u001b[36m0:00:00\u001b[0m\n",
            "\u001b[?25h\u001b[?25l   \u001b[90m━━━━━━━━━━━━━━━━━━━━━━━━━━━━━━━━━━━━━━━━\u001b[0m \u001b[32m0.0/165.6 kB\u001b[0m \u001b[31m?\u001b[0m eta \u001b[36m-:--:--\u001b[0m\r\u001b[2K   \u001b[90m━━━━━━━━━━━━━━━━━━━━━━━━━━━━━━━━━━━━━━━━\u001b[0m \u001b[32m165.6/165.6 kB\u001b[0m \u001b[31m11.7 MB/s\u001b[0m eta \u001b[36m0:00:00\u001b[0m\n",
            "\u001b[?25h"
          ]
        }
      ],
      "source": [
        "!pip install -q flask pyngrok flask_ngrok line-bot-sdk"
      ]
    },
    {
      "cell_type": "code",
      "source": [
        "# 從 Google Colab 的安全模組中匯入 userdata，用來取得儲存的憑證（如 LINE token、ngrok token）\n",
        "from google.colab import userdata\n",
        "\n",
        "# 匯入 flask-ngrok 函式，讓我們可以在 Colab 中啟動 ngrok 隧道公開 Flask 應用\n",
        "from flask_ngrok import run_with_ngrok\n",
        "import flask_ngrok\n",
        "\n",
        "# ✅ 自訂函式：啟動 ngrok 隧道，並連結至本機的 port 5000\n",
        "def ngrok_start():\n",
        "    ngrok_set_auth_token(userdata.get('NGROK_AUTH_TOKEN'))  # 設定 ngrok 認證 token（需先在 Colab 中儲存）\n",
        "    ngrok.connect(5000)  # 建立連接至 localhost:5000 的公開網址\n",
        "    run_with_ngrok(app)  # 將 app 綁定至 ngrok（這行應在 app 建立之後再呼叫）\n",
        "\n",
        "# Flask 是 Python Web Framework，這裡用來建立一個 Web 應用\n",
        "from flask import Flask, request, abort\n",
        "\n",
        "# 匯入 LINE Bot SDK 的 Webhook 處理器\n",
        "from linebot.v3.webhook import WebhookHandler\n",
        "\n",
        "# 匯入 LINE SDK 中的 Signature 錯誤類別（用來處理無效簽章的例外情況）\n",
        "from linebot.v3.exceptions import InvalidSignatureError\n",
        "\n",
        "# 匯入 LINE Messaging API 中的工具與資料模型\n",
        "from linebot.v3.messaging import (\n",
        "    ApiClient,                # LINE Bot API 的客戶端\n",
        "    Configuration,            # 儲存存取憑證的設定物件\n",
        "    MessagingApi,             # 提供訊息發送等功能\n",
        "    ReplyMessageRequest,      # 回覆訊息的請求格式\n",
        "    TextMessage               # 用來回傳文字訊息\n",
        ")\n",
        "\n",
        "# 匯入 webhook 的事件與內容類型\n",
        "from linebot.v3.webhooks import (\n",
        "    MessageEvent,             # 訊息事件\n",
        "    TextMessageContent        # 純文字訊息內容\n",
        ")\n",
        "\n",
        "# 建立 Flask 應用程式物件\n",
        "app = Flask(__name__)\n",
        "\n",
        "# 建立 LINE Bot 設定：使用儲存在 userdata 裡的 Channel Access Token\n",
        "configuration = Configuration(access_token=userdata.get('LINE_CHANNEL_ACCESS_TOKEN'))\n",
        "\n",
        "# 建立 webhook handler：用來驗證和處理來自 LINE 的請求\n",
        "handler = WebhookHandler(userdata.get('LINE_CHANNEL_SECRET'))\n",
        "\n",
        "# 🔁 當 LINE 的 webhook POST 訊息傳來時會進入這個 callback 路由\n",
        "@app.route(\"/callback\", methods=['POST'])\n",
        "def callback():\n",
        "    # 從 HTTP 標頭中取得簽名資訊\n",
        "    signature = request.headers['X-Line-Signature']\n",
        "\n",
        "    # 取得請求的主體（也就是 LINE 傳來的訊息資料）\n",
        "    body = request.get_data(as_text=True)\n",
        "    app.logger.info(\"Request body: \" + body)  # 將收到的訊息內容輸出到伺服器 log\n",
        "\n",
        "    # 驗證簽名並處理 webhook\n",
        "    try:\n",
        "        handler.handle(body, signature)  # 使用 webhook handler 驗證並處理訊息\n",
        "    except InvalidSignatureError:\n",
        "        # 如果簽名驗證失敗，回傳錯誤並中止處理\n",
        "        app.logger.info(\"Invalid signature. Please check your channel access token/channel secret.\")\n",
        "        abort(400)\n",
        "\n",
        "    return 'OK'  # 驗證成功後，回傳 OK 給 LINE Server（代表 webhook 處理完畢）\n",
        "\n",
        "# 📩 當收到文字訊息時會觸發這個事件處理函式\n",
        "@handler.add(MessageEvent, message=TextMessageContent)\n",
        "def handle_message(event):\n",
        "    # 使用 access_token 建立 Messaging API 客戶端\n",
        "    with ApiClient(configuration) as api_client:\n",
        "        line_bot_api = MessagingApi(api_client)\n",
        "\n",
        "        # 回覆與使用者輸入相同的訊息（回聲機器人 Echo Bot）\n",
        "        line_bot_api.reply_message_with_http_info(\n",
        "            ReplyMessageRequest(\n",
        "                reply_token=event.reply_token,  # 用來識別是哪個訊息需要被回覆\n",
        "                messages=[TextMessage(text=event.message.text)]  # 回覆的訊息內容\n",
        "            )\n",
        "        )\n",
        "\n",
        "# ✅ 啟動 ngrok，讓 Flask app 在公開網址上運行\n",
        "ngrok_start()\n",
        "\n",
        "# 🚀 如果這支程式是從主程式啟動，就啟動 Flask 伺服器\n",
        "if __name__ == \"__main__\":\n",
        "  app.run()"
      ],
      "metadata": {
        "colab": {
          "base_uri": "https://localhost:8080/",
          "height": 332
        },
        "id": "Z3Ty6B5lW3Y9",
        "outputId": "b533d899-d4a2-497f-ac42-fcd42f29b71e"
      },
      "execution_count": 4,
      "outputs": [
        {
          "output_type": "error",
          "ename": "SecretNotFoundError",
          "evalue": "Secret LINE_CHANNEL_ACCESS_TOKEN does not exist.",
          "traceback": [
            "\u001b[0;31m---------------------------------------------------------------------------\u001b[0m",
            "\u001b[0;31mSecretNotFoundError\u001b[0m                       Traceback (most recent call last)",
            "\u001b[0;32m<ipython-input-4-215907468205>\u001b[0m in \u001b[0;36m<cell line: 0>\u001b[0;34m()\u001b[0m\n\u001b[1;32m     40\u001b[0m \u001b[0;34m\u001b[0m\u001b[0m\n\u001b[1;32m     41\u001b[0m \u001b[0;31m# 建立 LINE Bot 設定：使用儲存在 userdata 裡的 Channel Access Token\u001b[0m\u001b[0;34m\u001b[0m\u001b[0;34m\u001b[0m\u001b[0m\n\u001b[0;32m---> 42\u001b[0;31m \u001b[0mconfiguration\u001b[0m \u001b[0;34m=\u001b[0m \u001b[0mConfiguration\u001b[0m\u001b[0;34m(\u001b[0m\u001b[0maccess_token\u001b[0m\u001b[0;34m=\u001b[0m\u001b[0muserdata\u001b[0m\u001b[0;34m.\u001b[0m\u001b[0mget\u001b[0m\u001b[0;34m(\u001b[0m\u001b[0;34m'LINE_CHANNEL_ACCESS_TOKEN'\u001b[0m\u001b[0;34m)\u001b[0m\u001b[0;34m)\u001b[0m\u001b[0;34m\u001b[0m\u001b[0;34m\u001b[0m\u001b[0m\n\u001b[0m\u001b[1;32m     43\u001b[0m \u001b[0;34m\u001b[0m\u001b[0m\n\u001b[1;32m     44\u001b[0m \u001b[0;31m# 建立 webhook handler：用來驗證和處理來自 LINE 的請求\u001b[0m\u001b[0;34m\u001b[0m\u001b[0;34m\u001b[0m\u001b[0m\n",
            "\u001b[0;32m/usr/local/lib/python3.11/dist-packages/google/colab/userdata.py\u001b[0m in \u001b[0;36mget\u001b[0;34m(key)\u001b[0m\n\u001b[1;32m     66\u001b[0m     \u001b[0;32mraise\u001b[0m \u001b[0mTimeoutException\u001b[0m\u001b[0;34m(\u001b[0m\u001b[0mkey\u001b[0m\u001b[0;34m)\u001b[0m\u001b[0;34m\u001b[0m\u001b[0;34m\u001b[0m\u001b[0m\n\u001b[1;32m     67\u001b[0m   \u001b[0;32mif\u001b[0m \u001b[0;32mnot\u001b[0m \u001b[0mresp\u001b[0m\u001b[0;34m.\u001b[0m\u001b[0mget\u001b[0m\u001b[0;34m(\u001b[0m\u001b[0;34m'exists'\u001b[0m\u001b[0;34m,\u001b[0m \u001b[0;32mFalse\u001b[0m\u001b[0;34m)\u001b[0m\u001b[0;34m:\u001b[0m\u001b[0;34m\u001b[0m\u001b[0;34m\u001b[0m\u001b[0m\n\u001b[0;32m---> 68\u001b[0;31m     \u001b[0;32mraise\u001b[0m \u001b[0mSecretNotFoundError\u001b[0m\u001b[0;34m(\u001b[0m\u001b[0mkey\u001b[0m\u001b[0;34m)\u001b[0m\u001b[0;34m\u001b[0m\u001b[0;34m\u001b[0m\u001b[0m\n\u001b[0m\u001b[1;32m     69\u001b[0m   \u001b[0;32mif\u001b[0m \u001b[0;32mnot\u001b[0m \u001b[0mresp\u001b[0m\u001b[0;34m.\u001b[0m\u001b[0mget\u001b[0m\u001b[0;34m(\u001b[0m\u001b[0;34m'access'\u001b[0m\u001b[0;34m,\u001b[0m \u001b[0;32mFalse\u001b[0m\u001b[0;34m)\u001b[0m\u001b[0;34m:\u001b[0m\u001b[0;34m\u001b[0m\u001b[0;34m\u001b[0m\u001b[0m\n\u001b[1;32m     70\u001b[0m     \u001b[0;32mraise\u001b[0m \u001b[0mNotebookAccessError\u001b[0m\u001b[0;34m(\u001b[0m\u001b[0mkey\u001b[0m\u001b[0;34m)\u001b[0m\u001b[0;34m\u001b[0m\u001b[0;34m\u001b[0m\u001b[0m\n",
            "\u001b[0;31mSecretNotFoundError\u001b[0m: Secret LINE_CHANNEL_ACCESS_TOKEN does not exist."
          ]
        }
      ]
    }
  ]
}