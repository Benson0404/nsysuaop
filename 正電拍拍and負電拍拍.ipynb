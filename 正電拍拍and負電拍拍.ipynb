{
  "nbformat": 4,
  "nbformat_minor": 0,
  "metadata": {
    "colab": {
      "provenance": [],
      "include_colab_link": true
    },
    "kernelspec": {
      "name": "python3",
      "display_name": "Python 3"
    },
    "language_info": {
      "name": "python"
    }
  },
  "cells": [
    {
      "cell_type": "markdown",
      "metadata": {
        "id": "view-in-github",
        "colab_type": "text"
      },
      "source": [
        "<a href=\"https://colab.research.google.com/github/Benson0404/nsysuaop/blob/main/%E6%AD%A3%E9%9B%BB%E6%8B%8D%E6%8B%8Dand%E8%B2%A0%E9%9B%BB%E6%8B%8D%E6%8B%8D.ipynb\" target=\"_parent\"><img src=\"https://colab.research.google.com/assets/colab-badge.svg\" alt=\"Open In Colab\"/></a>"
      ]
    },
    {
      "cell_type": "code",
      "execution_count": 3,
      "metadata": {
        "id": "QS8w6WHxakEW"
      },
      "outputs": [],
      "source": [
        "import requests\n",
        "from bs4 import BeautifulSoup\n",
        "\n",
        "for i in range(311,313):\n",
        "  id = f'{i:04}' #字串格式化\n",
        "  url = f'https://tw.portal-pokemon.com/play/pokedex/{id}'\n",
        "  response = requests.get(url)\n",
        "  soup = BeautifulSoup(response.text, 'lxml')\n",
        "  img = 'https://tw.portal-pokemon.com' + soup.find('img', class_='pokemon-img__front')['src']\n",
        "  r = requests.get(img)\n",
        "  with open(f'{id:04}.png', 'wb') as f: # wb:二進位檔\n",
        "    f.write(r.content)"
      ]
    }
  ]
}