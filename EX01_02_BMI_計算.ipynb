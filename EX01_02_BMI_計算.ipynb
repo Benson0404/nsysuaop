{
  "nbformat": 4,
  "nbformat_minor": 0,
  "metadata": {
    "colab": {
      "provenance": [],
      "authorship_tag": "ABX9TyP6fcqAGaP7VPshZPq22Oyh",
      "include_colab_link": true
    },
    "kernelspec": {
      "name": "python3",
      "display_name": "Python 3"
    },
    "language_info": {
      "name": "python"
    }
  },
  "cells": [
    {
      "cell_type": "markdown",
      "metadata": {
        "id": "view-in-github",
        "colab_type": "text"
      },
      "source": [
        "<a href=\"https://colab.research.google.com/github/Benson0404/nsysuaop/blob/main/EX01_02_BMI_%E8%A8%88%E7%AE%97.ipynb\" target=\"_parent\"><img src=\"https://colab.research.google.com/assets/colab-badge.svg\" alt=\"Open In Colab\"/></a>"
      ]
    },
    {
      "cell_type": "code",
      "execution_count": 3,
      "metadata": {
        "colab": {
          "base_uri": "https://localhost:8080/"
        },
        "id": "RbT-ax4wJNaL",
        "outputId": "563d122d-ca5d-4ade-e4d7-6ecf2795d1b0"
      },
      "outputs": [
        {
          "output_type": "stream",
          "name": "stdout",
          "text": [
            "請輸入身高(公分): 166\n",
            "請輸入體重(公斤): 66\n",
            "你的BMI為 24.0\n"
          ]
        }
      ],
      "source": [
        "#輸入身高 體重\n",
        "height = float(input(\"請輸入身高(公分): \"))\n",
        "weight = float(input(\"請輸入體重(公斤): \"))\n",
        "\n",
        "#BMI計算\n",
        "bmi = weight / (height/100)**2\n",
        "\n",
        "#BMI判斷\n",
        "print('你的BMI為', round(bmi,1))"
      ]
    }
  ]
}